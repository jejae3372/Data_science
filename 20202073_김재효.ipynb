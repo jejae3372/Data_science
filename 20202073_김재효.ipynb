{
  "nbformat": 4,
  "nbformat_minor": 0,
  "metadata": {
    "colab": {
      "provenance": [],
      "authorship_tag": "ABX9TyNBGRM8HN2PdljVEp/Nqu4G",
      "include_colab_link": true
    },
    "kernelspec": {
      "name": "python3",
      "display_name": "Python 3"
    },
    "language_info": {
      "name": "python"
    }
  },
  "cells": [
    {
      "cell_type": "markdown",
      "metadata": {
        "id": "view-in-github",
        "colab_type": "text"
      },
      "source": [
        "<a href=\"https://colab.research.google.com/github/jejae3372/Data_science/blob/main/20202073_%EA%B9%80%EC%9E%AC%ED%9A%A8.ipynb\" target=\"_parent\"><img src=\"https://colab.research.google.com/assets/colab-badge.svg\" alt=\"Open In Colab\"/></a>"
      ]
    },
    {
      "cell_type": "markdown",
      "source": [
        "## **L03.1 Linear Regression Practice**"
      ],
      "metadata": {
        "id": "p4K7hjgRbFH9"
      }
    },
    {
      "cell_type": "code",
      "execution_count": null,
      "metadata": {
        "colab": {
          "base_uri": "https://localhost:8080/"
        },
        "id": "dYgMYfCeaqkt",
        "outputId": "3a28fcc1-477d-40ed-9891-5d99c389e7e1"
      },
      "outputs": [
        {
          "output_type": "stream",
          "name": "stdout",
          "text": [
            "0 347.0793151855469 tensor([-1.4734,  0.5317]) tensor([[-1.3124]])\n",
            "100 1.2769683599472046 tensor([0.5767, 3.2521]) tensor([[-1.6454]])\n",
            "200 0.6561402678489685 tensor([0.9735, 3.1852]) tensor([[-2.3163]])\n",
            "300 0.3372015953063965 tensor([1.2634, 3.1332]) tensor([[-2.7934]])\n",
            "400 0.17329423129558563 tensor([1.4719, 3.0956]) tensor([[-3.1351]])\n",
            "500 0.08905910700559616 tensor([1.6214, 3.0685]) tensor([[-3.3800]])\n",
            "600 0.045769162476062775 tensor([1.7286, 3.0491]) tensor([[-3.5555]])\n",
            "700 0.023521719500422478 tensor([1.8054, 3.0352]) tensor([[-3.6814]])\n",
            "800 0.012088213115930557 tensor([1.8605, 3.0252]) tensor([[-3.7716]])\n",
            "900 0.006212359759956598 tensor([1.9000, 3.0181]) tensor([[-3.8362]])\n",
            "1000 0.0031926711089909077 tensor([1.9283, 3.0130]) tensor([[-3.8826]])\n",
            "1100 0.0016407233197242022 tensor([1.9486, 3.0093]) tensor([[-3.9158]])\n",
            "1200 0.000843214918859303 tensor([1.9632, 3.0067]) tensor([[-3.9397]])\n",
            "1300 0.0004333253891672939 tensor([1.9736, 3.0048]) tensor([[-3.9568]])\n",
            "1400 0.0002226978976977989 tensor([1.9811, 3.0034]) tensor([[-3.9690]])\n",
            "1500 0.00011444967094575986 tensor([1.9864, 3.0025]) tensor([[-3.9778]])\n",
            "1600 5.8810022892430425e-05 tensor([1.9903, 3.0018]) tensor([[-3.9841]])\n",
            "1700 3.021988413820509e-05 tensor([1.9930, 3.0013]) tensor([[-3.9886]])\n",
            "1800 1.553019683342427e-05 tensor([1.9950, 3.0009]) tensor([[-3.9918]])\n",
            "1900 7.981758244568482e-06 tensor([1.9964, 3.0006]) tensor([[-3.9941]])\n",
            "2000 4.1021330616786145e-06 tensor([1.9974, 3.0005]) tensor([[-3.9958]])\n",
            "2100 2.1087205368530704e-06 tensor([1.9982, 3.0003]) tensor([[-3.9970]])\n",
            "2200 1.0843571089935722e-06 tensor([1.9987, 3.0002]) tensor([[-3.9978]])\n",
            "2300 5.573108978751407e-07 tensor([1.9991, 3.0002]) tensor([[-3.9984]])\n",
            "2400 2.8683257369266357e-07 tensor([1.9993, 3.0001]) tensor([[-3.9989]])\n",
            "2500 1.4743783083304152e-07 tensor([1.9995, 3.0001]) tensor([[-3.9992]])\n",
            "2600 7.615771124847015e-08 tensor([1.9997, 3.0001]) tensor([[-3.9994]])\n",
            "2700 3.9150624076000895e-08 tensor([1.9997, 3.0000]) tensor([[-3.9996]])\n",
            "2800 2.020981426653634e-08 tensor([1.9998, 3.0000]) tensor([[-3.9997]])\n",
            "2900 1.0475934786313701e-08 tensor([1.9999, 3.0000]) tensor([[-3.9998]])\n",
            "3000 5.516096912572266e-09 tensor([1.9999, 3.0000]) tensor([[-3.9998]])\n",
            "35.999855041503906\n"
          ]
        },
        {
          "output_type": "execute_result",
          "data": {
            "text/plain": [
              "array([[35.99999738]])"
            ]
          },
          "metadata": {},
          "execution_count": 2
        }
      ],
      "source": [
        "import torch\n",
        "\n",
        "x_train = torch.FloatTensor([[1, 2], [3,2], [3, 7],[1, 1], [1, 0]])\n",
        "y_train = torch.FloatTensor([[4], [8], [23], [1], [-2]])\n",
        "\n",
        "w = torch.randn(2, 1)\n",
        "b = torch.randn(1, 1)\n",
        "lr = 0.01               #learning rate\n",
        "\n",
        "for epoch in range(3001):\n",
        "    w.requires_grad_(True)\n",
        "    b.requires_grad_(True)\n",
        "\n",
        "#가설함수 생성 (가설결과를 저장)\n",
        "    h = x_train @ w + b     #h = ax + b\n",
        "    cost = torch.mean((y_train - h) ** 2)   #  cost = (가설함수 - 실제 타깃 값) ** 2 의 평균\n",
        "\n",
        "    cost.backward()\n",
        "    with torch.no_grad():          #수식을 쓸 떄 사용할 기울기 계산을 잠시 멈춘다.(원래 자동 계산)\n",
        "        w = w - lr * w.grad     # w, b를 기울기 반대 방향으로 업데이트\n",
        "        b = b - lr * b.grad\n",
        "\n",
        "        if epoch % 100 == 0:\n",
        "            print(epoch, cost.item(), w.squeeze(), b)\n",
        "\n",
        "x_test=torch.FloatTensor([[5,10]])\n",
        "test_result=torch.mm(x_test, w)+b\n",
        "print(test_result.item())\n",
        "\n",
        "#사이킷런으로 실행\n",
        "\n",
        "from sklearn.linear_model import LinearRegression\n",
        "\n",
        "x_train = torch.FloatTensor([[1, 2], [3,2], [3, 7],[1, 1], [1, 0]])\n",
        "y_train = torch.FloatTensor([[4], [8], [23], [1], [-2]])\n",
        "\n",
        "lr = LinearRegression()\n",
        "\n",
        "lr.fit(x_train, y_train)\n",
        "\n",
        "lr.predict([[5, 10]])\n",
        "\n"
      ]
    },
    {
      "cell_type": "markdown",
      "source": [
        "## **L04.1 Logistic Practice**"
      ],
      "metadata": {
        "id": "a_pwA_YtuIEe"
      }
    },
    {
      "cell_type": "code",
      "source": [
        "import torch\n",
        "X_train = torch.FloatTensor([[1], [2], [3], [4], [5], [2.5], [3.5], [0], [3.1], [2.7], [2.8], [2.9]])\n",
        "y_train = torch.FloatTensor([[1], [1], [1], [0], [0], [0], [0], [1], [0], [1], [1], [1]])\n",
        "\n",
        "#W, b 랜덤 초기화\n",
        "W = torch.randn(1, 1)\n",
        "b = torch.randn(1, 1)\n",
        "\n",
        "lr = 1.0\n",
        "\n",
        "for epoch in range(3001):\n",
        "  W.requires_grad_(True)\n",
        "  b.requires_grad_(True)\n",
        "\n",
        "  hypothesis = torch.sigmoid(torch.mm(X_train, W) + b)  # X @ W + b 가설함수의 결과\n",
        "  cost = torch.mean(\n",
        "      -y_train * torch.log(hypothesis)\n",
        "      -(1 - y_train) * torch.log(1 - hypothesis))\n",
        "\n",
        "  cost.backward()\n",
        "\n",
        "  with torch.no_grad():   #W 와 b를 기울기 반대방향으로 경사하강 업데이트\n",
        "    W = W - lr * W.grad\n",
        "    b = b - lr * b.grad\n",
        "\n",
        "    if epoch % 100 == 0:\n",
        "      print(epoch, cost.item(), W.item(), b.item())\n",
        "\n",
        "#Test\n",
        "\n",
        "X_test = torch.FloatTensor([[4.5], [1.1]])\n",
        "test_result = torch.sigmoid(torch.mm(X_test, W) + b)\n",
        "print(torch.round(test_result))\n",
        "\n",
        "\n",
        "'''\n",
        "optimizer 사용\n",
        "\n",
        "W = torch.randn(1, 1, requires_grad_ = True)\n",
        "b = torch.randn(1, 1, requires_grad_ = True)\n",
        "\n",
        "lr = 1.0\n",
        "\n",
        "for epoch in range(3001):\n",
        "\n",
        "  hypothesis = torch.sigmoid(torch.mm(X_train, W) + b)  # X @ W + b 가설함수의 결과\n",
        "  cost = torch.mean(\n",
        "      -y_train * torch.log(hypothesis)\n",
        "      -(1 - y_train) * torch.log(1 - hypothesis))\n",
        "\n",
        "  optimizer.zero_grad()\n",
        "  optimizer = torch.optim.SGD([W, b], lr = 1.0)\n",
        "  cost.backward()\n",
        "  optimizer.step()\n",
        "\n",
        "  if epoch % 100 == 0:\n",
        "    print(epoch, cost.item(), W.item(), b.item())\n",
        "\n",
        "'''\n",
        "\n",
        "W.requires_grad_(False)\n",
        "b.requires_grad_(False)\n",
        "\n",
        "#그래프 그려보기\n",
        "import matplotlib.pyplot as plt\n",
        "\n",
        "plt.scatter(X_train, y_train)\n",
        "\n",
        "X = torch.linspace(0, 5, 100).unsqueeze(1)\n",
        "Y = torch.sigmoid(X @ W + b)\n",
        "plt.plot(X, Y, c = 'black')\n",
        "plt.show()\n",
        "\n",
        "#기능은 편리\n",
        "\n",
        "from sklearn.linear_model import LogisticRegression\n",
        "\n",
        "X_train = [[1], [2], [3], [4], [5], [2.5], [3.5], [0], [3.1], [2.7], [2.8], [2.9]]\n",
        "y_train = [1,1,1,0,0,0,0,1,0,1,1,1]\n",
        "\n",
        "model = LogisticRegression(penalty = None)\n",
        "model.fit(X_train, y_train)\n",
        "\n",
        "print(model.coef_, model.intercept_)\n",
        "\n",
        "X_test = [[4.5], [1.1]]\n",
        "test_result = model.predict(X_test)\n",
        "print(test_result)\n"
      ],
      "metadata": {
        "id": "mBz0mZzvuQzg",
        "colab": {
          "base_uri": "https://localhost:8080/",
          "height": 1000
        },
        "outputId": "441cc554-0f3e-42ca-a709-c6480b0270b1"
      },
      "execution_count": null,
      "outputs": [
        {
          "output_type": "stream",
          "name": "stdout",
          "text": [
            "0 1.9253371953964233 -0.33199095726013184 0.0867982804775238\n",
            "100 0.4199797809123993 -1.4550493955612183 4.41852331161499\n",
            "200 0.39864838123321533 -1.9005370140075684 5.780142784118652\n",
            "300 0.39078786969184875 -2.175734758377075 6.613820552825928\n",
            "400 0.3869916498661041 -2.368354082107544 7.194686412811279\n",
            "500 0.38491448760032654 -2.511402130126953 7.6248626708984375\n",
            "600 0.38369274139404297 -2.621384620666504 7.954980373382568\n",
            "700 0.3829398453235626 -2.7078778743743896 8.214244842529297\n",
            "800 0.3824603855609894 -2.7769827842712402 8.421178817749023\n",
            "900 0.38214781880378723 -2.832834243774414 8.588298797607422\n",
            "1000 0.3819402754306793 -2.8783681392669678 8.72446346282959\n",
            "1100 0.38180074095726013 -2.9157392978668213 8.836165428161621\n",
            "1200 0.38170579075813293 -2.9465739727020264 8.928295135498047\n",
            "1300 0.3816407024860382 -2.9721221923828125 9.004606246948242\n",
            "1400 0.3815957307815552 -2.9933600425720215 9.068026542663574\n",
            "1500 0.3815644681453705 -3.011063814163208 9.120882034301758\n",
            "1600 0.38154271245002747 -3.0258564949035645 9.1650390625\n",
            "1700 0.38152745366096497 -3.0382375717163086 9.201992988586426\n",
            "1800 0.3815166652202606 -3.0486159324645996 9.232964515686035\n",
            "1900 0.38150909543037415 -3.0573272705078125 9.258959770202637\n",
            "2000 0.3815038204193115 -3.064645290374756 9.280794143676758\n",
            "2100 0.3815000355243683 -3.0707991123199463 9.299154281616211\n",
            "2200 0.3814972937107086 -3.075977325439453 9.314603805541992\n",
            "2300 0.3814954459667206 -3.080338954925537 9.327614784240723\n",
            "2400 0.38149407505989075 -3.084012508392334 9.338573455810547\n",
            "2500 0.38149312138557434 -3.087108850479126 9.347809791564941\n",
            "2600 0.3814925253391266 -3.0897185802459717 9.355594635009766\n",
            "2700 0.38149192929267883 -3.091920852661133 9.362163543701172\n",
            "2800 0.38149169087409973 -3.093778371810913 9.367704391479492\n",
            "2900 0.38149139285087585 -3.095346450805664 9.372382164001465\n",
            "3000 0.38149118423461914 -3.0966696739196777 9.376328468322754\n",
            "tensor([[0.],\n",
            "        [1.]])\n"
          ]
        },
        {
          "output_type": "display_data",
          "data": {
            "text/plain": [
              "<Figure size 640x480 with 1 Axes>"
            ],
            "image/png": "[encoded data removed]"
          },
          "metadata": {}
        },
        {
          "output_type": "stream",
          "name": "stdout",
          "text": [
            "[[-3.10385806]] [9.39776831]\n",
            "[0 1]\n"
          ]
        }
      ]
    },
    {
      "cell_type": "markdown",
      "source": [
        "## **L05.1 Softmax Regression Practice**"
      ],
      "metadata": {
        "id": "Mi9bynUKwf-6"
      }
    },
    {
      "cell_type": "code",
      "source": [
        "import torch\n",
        "import torch.nn.functional as F\n",
        "import torch.nn as nn\n",
        "\n",
        "\n",
        "x_train= torch.FloatTensor([[1,2,1,1],[2,1,3,2],[3,1,3,4],[4,1,5,5],[1,7,5,5], [1,2,5,6],[1,6,6,6],[1,7,7,7]])\n",
        "y_train = torch.LongTensor([2, 2, 2, 1, 1, 1, 0, 0])\n",
        "#y_train= torch.FloatTensor([[0,0,1],[0,0,1],[0,0,1],[0,1,0],[0,1,0],[0,1,0], [1,0,0],[1,0,0]])\n",
        "\n",
        "'''\n",
        "W = torch.randn(4, 3, requires_grad=True)\n",
        "b = torch.randn(1, 3, requires_grad=True)\n",
        "optimizer = torch.optim.Adam([W, b], lr=0.1)\n",
        "'''\n",
        "\n",
        "#가설함수 간소화\n",
        "#z = torch.mm(x_train, W)+b\n",
        "\n",
        "model = nn.Linear(4, 3)\n",
        "optimizer = torch.optim.Adam(model.parameters(), lr = 1)\n",
        "\n",
        "for epoch in range(3001):\n",
        "  #가설함수와 비용함수\n",
        "  #hypothesis = torch.softmax(torch.mm(x_train, W) + b, dim=1)\n",
        "  #scost = -torch.mean(torch.sum(y_train * torch.log(hypothesis), dim=1))\n",
        "\n",
        "  z = model(x_train)\n",
        "\n",
        "  cost = F.cross_entropy(z, y_train)\n",
        "\n",
        "  #Pytorch's cross_entropy -> softmax + cross_entropy\n",
        "  #cost = -torch.mean(torch.sum(y_train * torch.log(torch.softmax(torch.mm(x_train, W)+b, dim=1)), dim = 1))\n",
        "\n",
        "  optimizer.zero_grad()\n",
        "  cost.backward()\n",
        "  optimizer.step()\n",
        "\n",
        "  if epoch % 300 == 0:\n",
        "    print(\"epoch: {}, cost: {:.6f}\".format(epoch, cost.item()))\n",
        "'''\n",
        "W.requires_grad_(False)\n",
        "b.requires_grad_(False)\n",
        "\n",
        "#Test\n",
        "x_test = torch.FloatTensor([[1, 11, 10, 9], [1, 3, 4, 3], [1, 1, 0, 1]])\n",
        "test_all = torch.softmax(torch.mm(x_test, W) + b, dim = 1)\n",
        "print(test_all)\n",
        "print(torch.argmax(test_all, dim = 1))\n",
        "'''\n",
        "#Sklearn\n",
        "import numpy as np\n",
        "from sklearn.linear_model import LogisticRegression\n",
        "\n",
        "x_train = np.array([[1,2,1,1],[2,1,3,2],[3,1,3,4],[4,1,5,5],[1,7,5,5],\n",
        "                    [1,2,5,6],[1,6,6,6],[1,7,7,7]])\n",
        "\n",
        "#y에 둘이상의class가존재 => softmax regression\n",
        "y_train = np.array([2,2,2,1,1,1,0,0])\n",
        "\n",
        "logistic = LogisticRegression(penalty= None)   #모델생성\n",
        "logistic.fit(x_train,y_train)     #학습\n",
        "\n",
        "pred=logistic.predict([[1,11,10,9],[1,3,4,3],[1,1,0,1]])    #testcase(값예측)\n",
        "print(pred)   #출력"
      ],
      "metadata": {
        "id": "IR63ikEMwIk1",
        "colab": {
          "base_uri": "https://localhost:8080/"
        },
        "outputId": "80e5343f-a47e-4d1d-b60c-26805ce5bafc"
      },
      "execution_count": null,
      "outputs": [
        {
          "output_type": "stream",
          "name": "stdout",
          "text": [
            "epoch: 0, cost: 1.850962\n",
            "epoch: 300, cost: 0.027425\n",
            "epoch: 600, cost: 0.011113\n",
            "epoch: 900, cost: 0.006072\n",
            "epoch: 1200, cost: 0.003830\n",
            "epoch: 1500, cost: 0.002626\n",
            "epoch: 1800, cost: 0.001902\n",
            "epoch: 2100, cost: 0.001429\n",
            "epoch: 2400, cost: 0.001104\n",
            "epoch: 2700, cost: 0.000870\n",
            "epoch: 3000, cost: 0.000697\n",
            "[0 1 2]\n"
          ]
        }
      ]
    }
  ]
}