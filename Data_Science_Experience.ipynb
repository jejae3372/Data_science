{
  "nbformat": 4,
  "nbformat_minor": 0,
  "metadata": {
    "colab": {
      "provenance": [],
      "mount_file_id": "1FEgY46KCUr7HU63c01zRnGwiBx8jQg7i",
      "authorship_tag": "ABX9TyPYXKote47GKcI07hfqQe7Y",
      "include_colab_link": true
    },
    "kernelspec": {
      "name": "python3",
      "display_name": "Python 3"
    },
    "language_info": {
      "name": "python"
    }
  },
  "cells": [
    {
      "cell_type": "markdown",
      "metadata": {
        "id": "view-in-github",
        "colab_type": "text"
      },
      "source": [
        "<a href=\"https://colab.research.google.com/github/jejae3372/Data_science/blob/main/Data_Science_Experience.ipynb\" target=\"_parent\"><img src=\"https://colab.research.google.com/assets/colab-badge.svg\" alt=\"Open In Colab\"/></a>"
      ]
    },
    {
      "cell_type": "markdown",
      "source": [
        "1번"
      ],
      "metadata": {
        "id": "wI0DhQlReeDu"
      }
    },
    {
      "cell_type": "markdown",
      "source": [
        "한글깨짐 해결"
      ],
      "metadata": {
        "id": "moLJqMTm4RPM"
      }
    },
    {
      "cell_type": "code",
      "source": [
        "!sudo apt-get install -y fonts-nanum\n",
        "!sudo fc-cache -fv\n",
        "!rm ~/.cache/matplotlib -rf"
      ],
      "metadata": {
        "colab": {
          "base_uri": "https://localhost:8080/"
        },
        "id": "rrrdNN1U33iG",
        "outputId": "1574fc08-41dc-441c-fe7c-4ed4ce553737"
      },
      "execution_count": null,
      "outputs": [
        {
          "output_type": "stream",
          "name": "stdout",
          "text": [
            "Reading package lists... Done\n",
            "Building dependency tree... Done\n",
            "Reading state information... Done\n",
            "The following NEW packages will be installed:\n",
            "  fonts-nanum\n",
            "0 upgraded, 1 newly installed, 0 to remove and 18 not upgraded.\n",
            "Need to get 10.3 MB of archives.\n",
            "After this operation, 34.1 MB of additional disk space will be used.\n",
            "Get:1 http://archive.ubuntu.com/ubuntu jammy/universe amd64 fonts-nanum all 20200506-1 [10.3 MB]\n",
            "Fetched 10.3 MB in 2s (5,640 kB/s)\n",
            "debconf: unable to initialize frontend: Dialog\n",
            "debconf: (No usable dialog-like program is installed, so the dialog based frontend cannot be used. at /usr/share/perl5/Debconf/FrontEnd/Dialog.pm line 78, <> line 1.)\n",
            "debconf: falling back to frontend: Readline\n",
            "debconf: unable to initialize frontend: Readline\n",
            "debconf: (This frontend requires a controlling tty.)\n",
            "debconf: falling back to frontend: Teletype\n",
            "dpkg-preconfigure: unable to re-open stdin: \n",
            "Selecting previously unselected package fonts-nanum.\n",
            "(Reading database ... 120875 files and directories currently installed.)\n",
            "Preparing to unpack .../fonts-nanum_20200506-1_all.deb ...\n",
            "Unpacking fonts-nanum (20200506-1) ...\n",
            "Setting up fonts-nanum (20200506-1) ...\n",
            "Processing triggers for fontconfig (2.13.1-4.2ubuntu5) ...\n",
            "/usr/share/fonts: caching, new cache contents: 0 fonts, 1 dirs\n",
            "/usr/share/fonts/truetype: caching, new cache contents: 0 fonts, 3 dirs\n",
            "/usr/share/fonts/truetype/humor-sans: caching, new cache contents: 1 fonts, 0 dirs\n",
            "/usr/share/fonts/truetype/liberation: caching, new cache contents: 16 fonts, 0 dirs\n",
            "/usr/share/fonts/truetype/nanum: caching, new cache contents: 12 fonts, 0 dirs\n",
            "/usr/local/share/fonts: caching, new cache contents: 0 fonts, 0 dirs\n",
            "/root/.local/share/fonts: skipping, no such directory\n",
            "/root/.fonts: skipping, no such directory\n",
            "/usr/share/fonts/truetype: skipping, looped directory detected\n",
            "/usr/share/fonts/truetype/humor-sans: skipping, looped directory detected\n",
            "/usr/share/fonts/truetype/liberation: skipping, looped directory detected\n",
            "/usr/share/fonts/truetype/nanum: skipping, looped directory detected\n",
            "/var/cache/fontconfig: cleaning cache directory\n",
            "/root/.cache/fontconfig: not cleaning non-existent cache directory\n",
            "/root/.fontconfig: not cleaning non-existent cache directory\n",
            "fc-cache: succeeded\n"
          ]
        }
      ]
    },
    {
      "cell_type": "code",
      "execution_count": null,
      "metadata": {
        "colab": {
          "base_uri": "https://localhost:8080/"
        },
        "id": "3uU6aXWAGHaj",
        "outputId": "0b57af8f-d95e-465e-b4ba-20aae44e3ea6"
      },
      "outputs": [
        {
          "output_type": "stream",
          "name": "stdout",
          "text": [
            "1038.9\n"
          ]
        }
      ],
      "source": [
        "import pandas as pd\n",
        "import numpy as np\n",
        "\n",
        "get_seoul = pd.read_csv('/content/gts-seoul.csv')\n",
        "get_seoul.shape\n",
        "get_seoul_array = np.array(get_seoul)\n",
        "sum = 0\n",
        "\n",
        "for i in range(32085):\n",
        "    if get_seoul_array[i][2] == '2011-03-21 06:00':\n",
        "          for j in [3, 5, 7, 10, 11]:\n",
        "            sum += get_seoul_array[i][j]\n",
        "print(sum)\n"
      ]
    },
    {
      "cell_type": "markdown",
      "source": [
        "2번"
      ],
      "metadata": {
        "id": "GylFVtG0egZ1"
      }
    },
    {
      "cell_type": "code",
      "source": [
        "get_seoul_1 = get_seoul[['습도','풍속', '현지기압', '기온', '이슬점 온도']]\n",
        "\n",
        "get_seoul_nan = get_seoul_1.dropna(how='any') #nan 포함 행 지우기\n",
        "get_seoul_array = np.array(get_seoul_nan) #(32068, 5)\n",
        "rows = get_seoul_array.shape[0]\n",
        "avg = get_seoul_nan.mean(axis = 'rows')\n",
        "avg_hum = avg[0] #평균 습도 = 59.021620\n",
        "max_wind = get_seoul_nan['풍속'].max() #최대풍속 19\n",
        "min_temp= get_seoul_nan['기온'].min() #최저기온 -17.6\n",
        "sum = rows + avg_hum + max_wind + min_temp\n",
        "print(sum)"
      ],
      "metadata": {
        "colab": {
          "base_uri": "https://localhost:8080/"
        },
        "id": "VzrjKYtxQlnJ",
        "outputId": "c069b10a-aef9-46d8-929a-a7d3c244f187"
      },
      "execution_count": null,
      "outputs": [
        {
          "output_type": "stream",
          "name": "stdout",
          "text": [
            "32128.421619683173\n"
          ]
        }
      ]
    },
    {
      "cell_type": "markdown",
      "source": [
        "3번"
      ],
      "metadata": {
        "id": "Ico2NzQDCw3Y"
      }
    },
    {
      "cell_type": "code",
      "source": [
        "#3-1. 상관계수 구하기\n",
        "\n",
        "get_corr = get_seoul_nan.corr(method='pearson')\n",
        "get_corr_mat = np.array(get_corr)\n",
        "sum = 0\n",
        "print(get_corr_mat)\n",
        "\n",
        "for i in range(4):\n",
        "  sum += get_corr_mat[4][i]\n",
        "print(sum)  #1.179202\n",
        "\n",
        "#3-2. 산점도(Scatter plot)그리기\n",
        "#get_seoul_nan.columns = 열의 이름들을 가져옴\n",
        "\n",
        "x_name = get_seoul_nan.columns.tolist()\n",
        "x_name_1 = x_name[0:4]  #이슬점 온도 인덱스 잘라냄\n",
        "\n",
        "import matplotlib.pyplot as plt\n",
        "\n",
        "plt.rcParams['font.family'] = 'NanumBarunGothic'\n",
        "k = 221\n",
        "for i in (x_name_1):\n",
        "  x = get_seoul_nan[i].tolist()\n",
        "  y = get_seoul_nan['이슬점 온도'].tolist()\n",
        "  #plt.subplot(k)\n",
        "  #plt.scatter(x, y)\n",
        "\n",
        "  k += 1\n",
        "\n",
        "#현지기압의 이상치 제거\n",
        "\n",
        "seoul_pre = get_seoul_nan[get_seoul_nan.현지기압 > 200]\n",
        "print(seoul_pre['현지기압'].shape) # 32027\n",
        "k = 221\n",
        "for i in (x_name_1):\n",
        "  x = seoul_pre[i].tolist()\n",
        "  y = seoul_pre['이슬점 온도'].tolist()\n",
        "\n",
        "  plt.subplot(k)\n",
        "  plt.scatter(x, y)\n",
        "  k += 1\n",
        "\n",
        "#전처리 후 상관계수\n",
        "\n",
        "get_corr_re = seoul_pre.corr(method='pearson')\n",
        "get_corr_mat_re = np.array(get_corr_re)\n",
        "print(get_corr_mat_re.shape)\n",
        "\n",
        "sum_1 = 0\n",
        "for i in range(4):\n",
        "  sum_1 += get_corr_mat_re[4][i]\n",
        "print(sum_1)#0.6187252"
      ],
      "metadata": {
        "colab": {
          "base_uri": "https://localhost:8080/",
          "height": 675
        },
        "id": "_eAIgIj0_27J",
        "outputId": "aaaed4c1-512f-4462-a168-ff9e117e884d"
      },
      "execution_count": null,
      "outputs": [
        {
          "output_type": "stream",
          "name": "stdout",
          "text": [
            "[[ 1.         -0.20800276 -0.09701857  0.17605649  0.57212268]\n",
            " [-0.20800276  1.         -0.03811411  0.01084699 -0.08680174]\n",
            " [-0.09701857 -0.03811411  1.         -0.20405187 -0.20970152]\n",
            " [ 0.17605649  0.01084699 -0.20405187  1.          0.90358279]\n",
            " [ 0.57212268 -0.08680174 -0.20970152  0.90358279  1.        ]]\n",
            "1.1792022126818202\n",
            "(32027,)\n",
            "(5, 5)\n",
            "0.6187252015474853\n"
          ]
        },
        {
          "output_type": "stream",
          "name": "stderr",
          "text": [
            "/usr/local/lib/python3.10/dist-packages/IPython/core/events.py:89: UserWarning: Glyph 8722 (\\N{MINUS SIGN}) missing from current font.\n",
            "  func(*args, **kwargs)\n",
            "/usr/local/lib/python3.10/dist-packages/IPython/core/pylabtools.py:151: UserWarning: Glyph 8722 (\\N{MINUS SIGN}) missing from current font.\n",
            "  fig.canvas.print_figure(bytes_io, **kw)\n"
          ]
        },
        {
          "output_type": "display_data",
          "data": {
            "text/plain": [
              "<Figure size 640x480 with 4 Axes>"
            ],
            "image/png": "[encoded data removed]"
          },
          "metadata": {}
        }
      ]
    },
    {
      "cell_type": "code",
      "source": [
        "#이슬점 온도 계산 공식\n",
        "\n",
        "from sklearn.linear_model import LinearRegression\n",
        "seoul_pre_drop = seoul_pre.drop(['이슬점 온도'], axis = 1)\n",
        "\n",
        "x = seoul_pre_drop\n",
        "y = seoul_pre['이슬점 온도'].tolist()\n",
        "\n",
        "lr = LinearRegression()\n",
        "lr.fit(x, y)\n",
        "y_pred = list(lr.predict(x))\n",
        "print(lr.coef_)\n",
        "print(lr.intercept_)\n",
        "n = len(x)\n",
        "sum1 = 0\n",
        "for i in range(len(y)):\n",
        "  sum1 += (y[i] - y_pred[i])**2\n",
        "\n",
        "mse = (1/n) * sum1\n",
        "print(mse)\n",
        "#1.168514629572595"
      ],
      "metadata": {
        "colab": {
          "base_uri": "https://localhost:8080/"
        },
        "id": "HSdqVUpdtWYQ",
        "outputId": "e671e768-30fb-4ddf-b6cb-ca74bde418f2"
      },
      "execution_count": null,
      "outputs": [
        {
          "output_type": "stream",
          "name": "stdout",
          "text": [
            "[ 0.2676329  -0.03078923  0.00952646  0.92936961]\n",
            "-32.91662937401224\n",
            "1.168514629572595\n"
          ]
        }
      ]
    }
  ]
}